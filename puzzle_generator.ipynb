{
 "cells": [
  {
   "cell_type": "code",
   "execution_count": 2,
   "id": "9ddb043d-955e-46e0-85a4-6f4120a9125a",
   "metadata": {
    "tags": []
   },
   "outputs": [],
   "source": [
    "import numpy as np\n",
    "import cv2 \n",
    "import random\n",
    "import os"
   ]
  },
  {
   "cell_type": "code",
   "execution_count": 3,
   "id": "577cc8ad-36f9-4b8d-8efa-90dfb736b5fc",
   "metadata": {
    "tags": []
   },
   "outputs": [],
   "source": [
    "def find_piece_and_ext_img_sizes(piece_count, overlap, img_size):\n",
    "    for piece_size in range(overlap + 1, img_size + 1):\n",
    "        extended_img_size = piece_size * piece_count - overlap * (piece_count - 1)\n",
    "        if extended_img_size >= img_size:\n",
    "            return piece_size, extended_img_size"
   ]
  },
  {
   "cell_type": "code",
   "execution_count": 21,
   "id": "235567dc-4ce1-4d18-949d-bc52bcece6c2",
   "metadata": {
    "tags": []
   },
   "outputs": [],
   "source": [
    "img_path = 'puzzle/city4k.jpg'\n",
    "save_to = 'puzzle/city4k_shuffle'\n",
    "\n",
    "rows_count = 30\n",
    "cols_count = 15\n",
    "height_overlap = 40\n",
    "width_overlap = 30"
   ]
  },
  {
   "cell_type": "code",
   "execution_count": 22,
   "id": "fe7e754b-7b72-42e8-b4f2-b549f40b54fc",
   "metadata": {
    "tags": []
   },
   "outputs": [
    {
     "name": "stdout",
     "output_type": "stream",
     "text": [
      "Piece size = 111x284\n",
      "Image size = 2170x3840\n"
     ]
    }
   ],
   "source": [
    "img = cv2.imread(img_path)\n",
    "img_size = np.array(img.shape[:2])\n",
    "\n",
    "piece_size = np.zeros((2), dtype=np.int32)\n",
    "ext_img_size = np.zeros((2), dtype=np.int32)\n",
    "piece_size[0], ext_img_size[0] = find_piece_and_ext_img_sizes(rows_count, height_overlap, img_size[0])\n",
    "piece_size[1], ext_img_size[1] = find_piece_and_ext_img_sizes(cols_count, width_overlap, img_size[1])\n",
    "shift = piece_size - np.array([height_overlap, width_overlap])\n",
    "\n",
    "pad = (ext_img_size - img_size) // 2\n",
    "ext_img = np.zeros((*ext_img_size, 3), dtype=np.uint8)\n",
    "ext_img[pad[0]:pad[0] + img_size[0], pad[1]:pad[1] + img_size[1]] = img\n",
    "\n",
    "pieces = []\n",
    "\n",
    "for row in range(rows_count):\n",
    "    for col in range(cols_count):\n",
    "        piece = ext_img[row * shift[0]:row * shift[0] + piece_size[0], col * shift[1]:col * shift[1] + piece_size[1]]\n",
    "        pieces.append(piece.copy())\n",
    "        \n",
    "random.shuffle(pieces)\n",
    "\n",
    "os.makedirs(save_to, exist_ok=True)\n",
    "\n",
    "for idx, piece in enumerate(pieces):\n",
    "    filename = f'{save_to}/{idx}.jpg'\n",
    "    cv2.imwrite(filename, piece)\n",
    "    \n",
    "print(f'Piece size = {piece_size[0]} x {piece_size[1]}')\n",
    "print(f'Extended image size = {ext_img_size[0]} x {ext_img_size[1]}')"
   ]
  },
  {
   "cell_type": "code",
   "execution_count": null,
   "id": "08cb652b-2b2c-4d61-8522-a013b9e8943d",
   "metadata": {},
   "outputs": [],
   "source": []
  }
 ],
 "metadata": {
  "kernelspec": {
   "display_name": "Python 3 (ipykernel)",
   "language": "python",
   "name": "python3"
  },
  "language_info": {
   "codemirror_mode": {
    "name": "ipython",
    "version": 3
   },
   "file_extension": ".py",
   "mimetype": "text/x-python",
   "name": "python",
   "nbconvert_exporter": "python",
   "pygments_lexer": "ipython3",
   "version": "3.11.2"
  }
 },
 "nbformat": 4,
 "nbformat_minor": 5
}
